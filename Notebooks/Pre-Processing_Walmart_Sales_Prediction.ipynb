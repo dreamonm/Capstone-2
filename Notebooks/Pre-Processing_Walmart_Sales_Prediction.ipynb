{
 "cells": [
  {
   "cell_type": "markdown",
   "id": "b43c776a-4925-4672-bfc1-913cfa1b89c9",
   "metadata": {},
   "source": [
    "# Pre-Processing"
   ]
  },
  {
   "cell_type": "markdown",
   "id": "5b13931f-7112-4101-b192-df0bd4b1635d",
   "metadata": {},
   "source": [
    "## 1. Imports and Load Data"
   ]
  },
  {
   "cell_type": "code",
   "execution_count": 1,
   "id": "7bdf4a84-5ae0-44db-bb51-a1ebad3d2a1d",
   "metadata": {},
   "outputs": [],
   "source": [
    "import pandas as pd\n",
    "import numpy as np\n",
    "import os\n",
    "import pickle\n",
    "import matplotlib.pyplot as plt\n",
    "import seaborn as sns\n",
    "from sklearn import preprocessing\n",
    "from sklearn.preprocessing import LabelEncoder\n",
    "from sklearn.preprocessing import OneHotEncoder\n",
    "from sklearn.model_selection import train_test_split"
   ]
  },
  {
   "cell_type": "code",
   "execution_count": 2,
   "id": "6fcee64b-2aca-489f-a886-2bb40f85091c",
   "metadata": {},
   "outputs": [
    {
     "name": "stdout",
     "output_type": "stream",
     "text": [
      "<class 'pandas.core.frame.DataFrame'>\n",
      "RangeIndex: 5853780 entries, 0 to 5853779\n",
      "Data columns (total 22 columns):\n",
      " #   Column        Dtype  \n",
      "---  ------        -----  \n",
      " 0   id            object \n",
      " 1   item_id       object \n",
      " 2   dept_id_x     object \n",
      " 3   cat_id        object \n",
      " 4   store_id      object \n",
      " 5   state_id      object \n",
      " 6   d             object \n",
      " 7   sales         int64  \n",
      " 8   date          object \n",
      " 9   wm_yr_wk      int64  \n",
      " 10  weekday       object \n",
      " 11  wday          int64  \n",
      " 12  month         int64  \n",
      " 13  year          int64  \n",
      " 14  event_name_1  object \n",
      " 15  event_type_1  object \n",
      " 16  event_name_2  object \n",
      " 17  event_type_2  object \n",
      " 18  snap_CA       int64  \n",
      " 19  snap_TX       int64  \n",
      " 20  snap_WI       int64  \n",
      " 21  sell_price    float64\n",
      "dtypes: float64(1), int64(8), object(13)\n",
      "memory usage: 982.5+ MB\n"
     ]
    }
   ],
   "source": [
    "df = pd.read_csv('../Data/data_cleaned.csv')\n",
    "df.info()"
   ]
  },
  {
   "cell_type": "markdown",
   "id": "a9152fe5-bac3-4358-be96-0c99d16bd0f7",
   "metadata": {},
   "source": [
    "## 2. Train-Test Split"
   ]
  },
  {
   "cell_type": "code",
   "execution_count": 3,
   "id": "8d8f1bb4-4a49-4982-bc34-7e1059a86156",
   "metadata": {},
   "outputs": [],
   "source": [
    "X_train, X_test, y_train, y_test = train_test_split(df.drop(columns='sales'), \n",
    "                                                    df.sales, test_size=0.3, \n",
    "                                                    random_state=47)"
   ]
  },
  {
   "cell_type": "code",
   "execution_count": 4,
   "id": "37b85c4e-eeb2-49b7-9f03-4339f4c80409",
   "metadata": {},
   "outputs": [],
   "source": [
    "X_train = X_train.reset_index()\n",
    "X_test = X_train.reset_index()"
   ]
  },
  {
   "cell_type": "markdown",
   "id": "ea0b2f08-6ad8-4411-be21-f8ec8e5829a3",
   "metadata": {},
   "source": [
    "## 3. Date Related Features\n",
    "\n",
    "Date related features : `d`, `date`, `wm_yr_wk`, `weekday`, `wday`, `month`, `year`"
   ]
  },
  {
   "cell_type": "code",
   "execution_count": 5,
   "id": "359b0269-5aea-4e4c-9af0-117fbf4414ee",
   "metadata": {},
   "outputs": [],
   "source": [
    "# d counts the number of days from the starting date in the d_## format.\n",
    "# remove d_ and store only number\n",
    "\n",
    "X_train['d'] = X_train['d'].apply(lambda x: x.split('_')[1]).astype('int64')\n",
    "X_test['d'] = X_test['d'].apply(lambda x: x.split('_')[1]).astype('int64')"
   ]
  },
  {
   "cell_type": "code",
   "execution_count": 6,
   "id": "27b70af1-ceb1-4a12-b82e-44624beae472",
   "metadata": {},
   "outputs": [],
   "source": [
    "# wday is the id of the weekday, starting from Saturday.\n",
    "# add weekend feature : 0 - weekday, 1 - weekend\n",
    "\n",
    "def weekend(x):\n",
    "    if x in [1,2]:\n",
    "        return 1\n",
    "    else:\n",
    "        return 0"
   ]
  },
  {
   "cell_type": "code",
   "execution_count": 7,
   "id": "74900aa0-2d3c-491c-a199-e819a012f6a3",
   "metadata": {},
   "outputs": [],
   "source": [
    "X_train['weekend'] = X_train['wday'].apply(lambda x: weekend(x))\n",
    "X_test['weekend'] = X_test['wday'].apply(lambda x: weekend(x))"
   ]
  },
  {
   "cell_type": "code",
   "execution_count": 8,
   "id": "bae01608-2fe4-4238-ad0d-fb3b8210428b",
   "metadata": {},
   "outputs": [],
   "source": [
    "# drop `d`, `date`, `wm_yr_wk`, `weekday` columns from `X_train` and `X_test`\n",
    "\n",
    "date_list = ['d','date','wm_yr_wk','weekday', 'index']\n",
    "\n",
    "X_train.drop(columns=date_list, inplace=True)\n",
    "X_test.drop(columns=date_list, inplace=True)"
   ]
  },
  {
   "cell_type": "markdown",
   "id": "33050e23-8076-41f4-9169-8380cfeb6fb1",
   "metadata": {},
   "source": [
    "## 4. Encode Categorical Features\n",
    "\n",
    "Categorical features : `id`, `item_id`, `dept_id_x`, `cat_id`, `store_id`, `state_id`, `event_name_1`, `event_type_1`, `event_name_2`, `event_type_2`\n"
   ]
  },
  {
   "cell_type": "code",
   "execution_count": 9,
   "id": "267e82ae-2592-4b75-8cb8-3006b2b23f79",
   "metadata": {},
   "outputs": [],
   "source": [
    "# Categorical columns are divided into two groups.\n",
    "\n",
    "cat1 = ['dept_id_x','cat_id','store_id','state_id']\n",
    "cat2 = ['item_id','event_name_1','event_type_1','event_name_2','event_type_2']"
   ]
  },
  {
   "cell_type": "code",
   "execution_count": 10,
   "id": "d9a8ee31-8668-4367-b0e4-78f7e3942c1f",
   "metadata": {},
   "outputs": [],
   "source": [
    "ohe = OneHotEncoder(categories='auto')\n",
    "\n",
    "feature_arr_train = ohe.fit_transform(X_train[cat1]).toarray()\n",
    "feature_arr_test = ohe.fit_transform(X_test[cat1]).toarray()\n",
    "\n",
    "ohe_labels = ohe.get_feature_names(cat1)\n",
    "\n",
    "X_train[ohe_labels] = pd.DataFrame(feature_arr_train, columns=ohe_labels)\n",
    "X_test[ohe_labels] = pd.DataFrame(feature_arr_test, columns=ohe_labels)"
   ]
  },
  {
   "cell_type": "code",
   "execution_count": 15,
   "id": "c0c12e33-0cae-45b7-8051-509e6c1c2423",
   "metadata": {},
   "outputs": [],
   "source": [
    "# add holiday feature : 0 - no_event, 1 - holiday\n",
    "\n",
    "def holiday(x):\n",
    "    if x == 'no_event':\n",
    "        return 0\n",
    "    else:\n",
    "        return 1"
   ]
  },
  {
   "cell_type": "code",
   "execution_count": 16,
   "id": "c937f5c0-6ce3-4684-a9e5-bf3c78a925df",
   "metadata": {},
   "outputs": [],
   "source": [
    "X_train['holiday'] = X_train['event_name_1'].apply(lambda x: holiday(x))\n",
    "X_test['holiday'] = X_test['event_name_1'].apply(lambda x: holiday(x))"
   ]
  },
  {
   "cell_type": "code",
   "execution_count": 17,
   "id": "f0941a4a-0427-4007-a5b7-d7a8a73f333e",
   "metadata": {},
   "outputs": [],
   "source": [
    "X_train[cat2] = X_train[cat2].apply(LabelEncoder().fit_transform)\n",
    "X_test[cat2] = X_train[cat2].apply(LabelEncoder().fit_transform)"
   ]
  },
  {
   "cell_type": "code",
   "execution_count": 20,
   "id": "1d1680e0-1799-4d42-bb2a-1140b79dbd8a",
   "metadata": {},
   "outputs": [
    {
     "name": "stdout",
     "output_type": "stream",
     "text": [
      "<class 'pandas.core.frame.DataFrame'>\n",
      "RangeIndex: 4097646 entries, 0 to 4097645\n",
      "Data columns (total 37 columns):\n",
      " #   Column                 Dtype  \n",
      "---  ------                 -----  \n",
      " 0   item_id                int64  \n",
      " 1   wday                   int64  \n",
      " 2   month                  int64  \n",
      " 3   year                   int64  \n",
      " 4   event_name_1           int64  \n",
      " 5   event_type_1           int64  \n",
      " 6   event_name_2           int64  \n",
      " 7   event_type_2           int64  \n",
      " 8   snap_CA                int64  \n",
      " 9   snap_TX                int64  \n",
      " 10  snap_WI                int64  \n",
      " 11  sell_price             float64\n",
      " 12  weekend                int64  \n",
      " 13  dept_id_x_FOODS_1      float64\n",
      " 14  dept_id_x_FOODS_2      float64\n",
      " 15  dept_id_x_FOODS_3      float64\n",
      " 16  dept_id_x_HOBBIES_1    float64\n",
      " 17  dept_id_x_HOBBIES_2    float64\n",
      " 18  dept_id_x_HOUSEHOLD_1  float64\n",
      " 19  dept_id_x_HOUSEHOLD_2  float64\n",
      " 20  cat_id_FOODS           float64\n",
      " 21  cat_id_HOBBIES         float64\n",
      " 22  cat_id_HOUSEHOLD       float64\n",
      " 23  store_id_CA_1          float64\n",
      " 24  store_id_CA_2          float64\n",
      " 25  store_id_CA_3          float64\n",
      " 26  store_id_CA_4          float64\n",
      " 27  store_id_TX_1          float64\n",
      " 28  store_id_TX_2          float64\n",
      " 29  store_id_TX_3          float64\n",
      " 30  store_id_WI_1          float64\n",
      " 31  store_id_WI_2          float64\n",
      " 32  store_id_WI_3          float64\n",
      " 33  state_id_CA            float64\n",
      " 34  state_id_TX            float64\n",
      " 35  state_id_WI            float64\n",
      " 36  holiday                int64  \n",
      "dtypes: float64(24), int64(13)\n",
      "memory usage: 1.1 GB\n"
     ]
    }
   ],
   "source": [
    "X_train.info()"
   ]
  },
  {
   "cell_type": "code",
   "execution_count": null,
   "id": "e9d114dd-91b3-42b9-80ef-52cf839169ac",
   "metadata": {},
   "outputs": [],
   "source": []
  }
 ],
 "metadata": {
  "kernelspec": {
   "display_name": "Python 3",
   "language": "python",
   "name": "python3"
  },
  "language_info": {
   "codemirror_mode": {
    "name": "ipython",
    "version": 3
   },
   "file_extension": ".py",
   "mimetype": "text/x-python",
   "name": "python",
   "nbconvert_exporter": "python",
   "pygments_lexer": "ipython3",
   "version": "3.8.8"
  }
 },
 "nbformat": 4,
 "nbformat_minor": 5
}
